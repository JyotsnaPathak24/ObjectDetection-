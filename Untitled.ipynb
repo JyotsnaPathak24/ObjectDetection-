{
 "cells": [
  {
   "cell_type": "code",
   "execution_count": 2,
   "metadata": {},
   "outputs": [
    {
     "name": "stdout",
     "output_type": "stream",
     "text": [
      "code completed\n"
     ]
    }
   ],
   "source": [
    "import cv2\n",
    "\n",
    "#get video footage\n",
    "video = cv2.VideoCapture('tesla dashboard2.mp4')\n",
    "#video = cv2.VideoCapture('pedestrains.mp4')\n",
    "\n",
    "#load some pre_trained data on car rear ends (haar cascade algorithm)\n",
    "car_tracker = cv2.CascadeClassifier('car detector.xml')\n",
    "pedestrian_tracker = cv2.CascadeClassifier('haarcascade fullbody.xml')\n",
    "\n",
    "#Run forever until car stops or something\n",
    "while True:\n",
    "\t\n",
    "    #read the current frame\n",
    "    (read_successful, frame) = video.read()\n",
    "\n",
    "    if read_successful:\n",
    "        #must convert to grayscale\n",
    "        grayscaled_frame = cv2.cvtColor(frame, cv2.COLOR_BGR2GRAY)\n",
    "    else:\n",
    "        break\n",
    "\n",
    "    #detect cars\n",
    "    cars = car_tracker.detectMultiScale(grayscaled_frame)\n",
    "\n",
    "    #detect pedestrians\n",
    "    pedestrians = pedestrian_tracker.detectMultiScale(grayscaled_frame)\n",
    "    \n",
    "    #draw rectangles around the cars\n",
    "    for (x, y, w, h) in cars:\n",
    "        cv2.rectangle(frame, (x+1, y+2), (x+w, y+h), (225, 0, 0), 2)\n",
    "        cv2.rectangle(frame, (x, y), (x+w, y+h), (0, 0, 225), 2)\n",
    "        \n",
    "    #draw rectangles around the pedestrians\n",
    "    for (x, y, w, h) in pedestrians:\n",
    "        cv2.rectangle(frame, (x, y), (x+w, y+h), (0, 225, 225), 2)\n",
    "\n",
    "    #display the image with the faces spotted\n",
    "    cv2.imshow('car and pedestrain detector', frame)\n",
    "\n",
    "    #dont autoclose (wait here in the code and listen for  a key press)\n",
    "    cv2.waitKey(1)\n",
    "            \n",
    "\"\"\"\n",
    "#create opencv image\n",
    "img = cv2.imread(img_file)\n",
    "\n",
    "#create classifier\n",
    "car_tracker = cv2.CascadeClassifier(classifier_file)\n",
    "\n",
    "#covert ot grayscale(needed for haar cascade)\n",
    "black_n_white = cv2.cvtColor(img, cv2.COLOR_BGR2GRAY)\n",
    "\n",
    "#detect cars\n",
    "cars = car_tracker.detectMultiScale(black_n_white)\n",
    "\n",
    "#Draw rectangles aroud the cars\n",
    "for (x, y, w, h) in cars:\n",
    "\tcv2.rectangle(img, (x, y), (x+w, y+h), (0, 225, 0), 2)\n",
    "\n",
    "#display the image with the faces spotted\n",
    "cv2.imshow('car detector', img)\n",
    "\n",
    "#dont autoclose (wait here in the code and listen for  a key press)\n",
    "cv2.waitKey()\n",
    "\"\"\"\n",
    "\n",
    "print(\"code completed\")"
   ]
  },
  {
   "cell_type": "code",
   "execution_count": null,
   "metadata": {},
   "outputs": [],
   "source": []
  }
 ],
 "metadata": {
  "kernelspec": {
   "display_name": "Python 3",
   "language": "python",
   "name": "python3"
  },
  "language_info": {
   "codemirror_mode": {
    "name": "ipython",
    "version": 3
   },
   "file_extension": ".py",
   "mimetype": "text/x-python",
   "name": "python",
   "nbconvert_exporter": "python",
   "pygments_lexer": "ipython3",
   "version": "3.8.5"
  }
 },
 "nbformat": 4,
 "nbformat_minor": 4
}
